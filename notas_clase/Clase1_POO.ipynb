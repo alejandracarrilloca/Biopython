{
 "cells": [
  {
   "cell_type": "markdown",
   "id": "2c67accd",
   "metadata": {},
   "source": [
    "# Programación orientada a objetos aplicada y descripcion de los datos\n",
    "\n",
    "**Clases:** ayudan a mejorar y organizar estructuras de datos mas compleja, ya que al crear una clase se crea un \"molde\"  que define las caracteristicas y comportamiento de un conjunto de objetos similares. \n",
    "\n",
    "**Objetos:** instancia de una clase \n",
    "\n",
    "**Propiedades de los objetos:**\n",
    "- **Metodo:** función que puede desarrollar un objeto\n",
    "- **Atributos:** caracteristicas particulares del objeto \n",
    "\n",
    "**Conceptos clave:**\n",
    "- **Herencia:** \n",
    "- **Polimorfismos:** En el contexto de los métodos, estos mismos se pueden modificar dependiendo de la interaccion que tengan con un atributo. \n",
    "- **Encapsulamiento:** \n",
    "- **Abstracción:** \n",
    "\n"
   ]
  },
  {
   "cell_type": "code",
   "execution_count": 1,
   "id": "c2acb950",
   "metadata": {},
   "outputs": [],
   "source": [
    "class mamifero (): \n",
    "    #Atributos para la clase \n",
    "    vertebrado = True \n",
    "    amamanta = True \n",
    "    #Atributos de la instancia \n",
    "    altura = 0 \n",
    "    peso = 0 \n",
    "    alimentacion = \"\"\n",
    "    progenie = 0 \n",
    "\n",
    "    def reproducirse (self, max_progenie):\n",
    "        self.progenie += choice(range(max_progenie))\n",
    "\n",
    "    def crecer(self, crecimiento):\n",
    "        self.altura += crecimiento"
   ]
  },
  {
   "cell_type": "code",
   "execution_count": 2,
   "id": "f5e51c44",
   "metadata": {},
   "outputs": [
    {
     "ename": "SyntaxError",
     "evalue": "invalid syntax. Perhaps you forgot a comma? (170927281.py, line 3)",
     "output_type": "error",
     "traceback": [
      "\u001b[0;36m  Cell \u001b[0;32mIn[2], line 3\u001b[0;36m\u001b[0m\n\u001b[0;31m    print(\"el tipo de alimentación es \" perro.alimentación, \"mide\" perro.altura, \"pesa\" perro.peso, \"su descendencia asciende a\" perro.asendencia)\u001b[0m\n\u001b[0m          ^\u001b[0m\n\u001b[0;31mSyntaxError\u001b[0m\u001b[0;31m:\u001b[0m invalid syntax. Perhaps you forgot a comma?\n"
     ]
    }
   ],
   "source": [
    "perro = mamifero ()\n",
    "perro.reproducirse (6)\n",
    "print(\"el tipo de alimentación es \" perro.alimentación, \"mide\" perro.altura, \"pesa\" perro.peso, \"su descendencia asciende a\" perro.asendencia)"
   ]
  },
  {
   "cell_type": "markdown",
   "id": "33bea68e",
   "metadata": {},
   "source": [
    "# Ejercicio 1: Crear una clase llamada gen, que tenga 3 atributos y 3 metodos"
   ]
  },
  {
   "cell_type": "code",
   "execution_count": null,
   "id": "ad5b543c",
   "metadata": {},
   "outputs": [],
   "source": []
  },
  {
   "cell_type": "code",
   "execution_count": null,
   "id": "1bfaf809",
   "metadata": {},
   "outputs": [],
   "source": []
  },
  {
   "cell_type": "code",
   "execution_count": null,
   "id": "32ef8399",
   "metadata": {},
   "outputs": [],
   "source": []
  }
 ],
 "metadata": {
  "kernelspec": {
   "display_name": "Python 3",
   "language": "python",
   "name": "python3"
  },
  "language_info": {
   "codemirror_mode": {
    "name": "ipython",
    "version": 3
   },
   "file_extension": ".py",
   "mimetype": "text/x-python",
   "name": "python",
   "nbconvert_exporter": "python",
   "pygments_lexer": "ipython3",
   "version": "3.12.3"
  }
 },
 "nbformat": 4,
 "nbformat_minor": 5
}
