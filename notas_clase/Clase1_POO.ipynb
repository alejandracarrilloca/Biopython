{
 "cells": [
  {
   "cell_type": "markdown",
   "id": "2c67accd",
   "metadata": {},
   "source": [
    "# Programación orientada a objetos aplicada y descripcion de los datos\n"
   ]
  }
 ],
 "metadata": {
  "language_info": {
   "name": "python"
  }
 },
 "nbformat": 4,
 "nbformat_minor": 5
}
