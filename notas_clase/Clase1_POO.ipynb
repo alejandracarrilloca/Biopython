{
 "cells": [
  {
   "cell_type": "markdown",
   "id": "2c67accd",
   "metadata": {},
   "source": [
    "# Programación orientada a objetos aplicada y descripcion de los datos\n",
    "\n",
    "**Clases:** ayudan a mejorar y organizar estructuras de datos mas compleja, ya que al crear una clase se crea un \"molde\"  que define las caracteristicas y comportamiento de un conjunto de objetos similares. \n",
    "\n",
    "**Objetos:** instancia de una clase \n",
    "\n",
    "**Propiedades de los objetos:**\n",
    "- **Metodo:** función que puede desarrollar un objeto\n",
    "- **Atributos:** caracteristicas particulares del objeto \n",
    "\n",
    "**Conceptos clave:**\n",
    "- **Herencia:** \n",
    "- **Polimorfismos:** En el contexto de los métodos, estos mismos se pueden modificar dependiendo de la interaccion que tengan con un atributo. \n",
    "- **Encapsulamiento:** \n",
    "- **Abstracción:** \n",
    "\n"
   ]
  },
  {
   "cell_type": "code",
   "execution_count": null,
   "id": "c2acb950",
   "metadata": {},
   "outputs": [],
   "source": [
    "from random  import choice\n",
    "\n",
    "class mamifero (): \n",
    "    #Atributos para la clase \n",
    "    vertebrado = True \n",
    "    amamanta = True \n",
    "    #Atributos de la instancia \n",
    "    altura = 0 \n",
    "    peso = 0 \n",
    "    alimentacion = \"\"\n",
    "    progenie = 0 \n",
    "\n",
    "    def reproducirse (self, max_progenie):\n",
    "        self.progenie += choice(range(max_progenie))\n",
    "\n",
    "    def crecer(self, crecimiento):\n",
    "        self.altura += crecimiento\n",
    "\n",
    "perro = mamifero ()\n",
    "perro.reproducirse (6)\n",
    "print(\"el tipo de alimentación es \" perro.alimentación, \"mide\" perro.altura, \"pesa\" perro.peso, \"su descendencia asciende a\" perro.asendencia)"
   ]
  },
  {
   "cell_type": "markdown",
   "id": "4b98ab9e",
   "metadata": {},
   "source": [
    "# Herencia\n",
    "\n",
    "La programación orientada a objetos nos permite crear clases que pueden heredar propiedades, métodos y comportamientos de otras clases ya existentes. En Python, la herencia es una característica clave que nos permite crear clases hijas a partir de una clase padre.\n",
    "\n",
    "La herencia en Python se logra por medio de una sintaxis sencilla que involucra la creación de una nueva clase que hereda atributos y métodos de la clase padre. Para crear una clase hija en Python, simplemente agregamos el nombre de la clase padre en paréntesis después del nombre de la clase hija.\n",
    "\n"
   ]
  },
  {
   "cell_type": "code",
   "execution_count": null,
   "id": "a9e94a38",
   "metadata": {},
   "outputs": [],
   "source": [
    "class monotrema(mamifero):\n",
    "    espolon = True\n",
    "    \n",
    "    def poner_huevo(self, max_huevos):\n",
    "        huevos = 0\n",
    "        \n",
    "        # Cuántos de esos huevos eclosionan\n",
    "        for n in range(max_huevos):\n",
    "            if choice([True, False]):\n",
    "                huevos += 1\n",
    "                \n",
    "        if huevos>0:\n",
    "            self.reproducirse(huevos)\n",
    "\n",
    "echidna = monotrema(\"carnívoro\", 50, 6)\n",
    "print(\"El tipo de alimentación de echidna es: \", echidna.alimentacion, \", mide\",\\\n",
    "      echidna.altura,\"cms, pesa\",echidna.peso, \"kg y su descendencia asciende a\",echidna.progenie)\n",
    "echidna.crecer(10)\n",
    "print(\"Despues de crecer 10 cm, mide\",echidna.altura,\"cms, pesa\",echidna.peso, \"kg\")\n",
    "echidna.poner_huevo(5)\n",
    "print(\"Despues de poner 5 huevos, su progenie es\",echidna.progenie )\n"
   ]
  },
  {
   "cell_type": "markdown",
   "id": "a5b40865",
   "metadata": {},
   "source": [
    "# Polimorfismos \n",
    "\n",
    "El polimorfismo, por otro lado, es una característica que nos permite utilizar objetos de diferentes clases de manera intercambiable. Esto significa que el mismo método o función puede ser utilizado en diferentes tipos de objetos, sin preocuparnos por conocer los detalles exactos de cada uno de ellos. En Python, el polimorfismo está estrechamente relacionado con la herencia y la superposición de métodos.\n",
    "\n",
    "La superposición de métodos es una técnica que nos permite modificar el comportamiento de los métodos heredados de la clase padre en la clase hija. Esto se logra al definir un método con el mismo nombre en la clase hija como en la clase padre. Cuando se llama al método en la clase hija, el intérprete de Python buscará la definición del método en la clase hija primero y, si no la encuentra, lo buscará en la clase padre."
   ]
  },
  {
   "cell_type": "markdown",
   "id": "2cf044a7",
   "metadata": {},
   "source": [
    "## Override\n",
    "Overriding (podemos verlo como sobreescribir o anular) es una característica que permite que una subclase implemente a su manera un método que heredó de una superclase.\n",
    "\n"
   ]
  },
  {
   "cell_type": "code",
   "execution_count": null,
   "id": "5f7a7aaf",
   "metadata": {},
   "outputs": [],
   "source": [
    "from random import choice, seed\n",
    "class placentario(mamifero):\n",
    "\n",
    "    def __init__(self, alimentacion, altura, peso, acuatico, progenie=0):\n",
    "        mamifero.__init__(self,alimentacion, altura, peso, progenie=0)\n",
    "        self.acuatico = acuatico\n",
    "                         \n",
    "    def crecer(self, crecimiento):\n",
    "        self.altura += crecimiento\n",
    "        self.peso += crecimiento * 2\n",
    "\n",
    "cachalote = placentario('carnívoro', 200, 41*10**3, True )\n",
    "cachalote.__dict__\n"
   ]
  },
  {
   "cell_type": "code",
   "execution_count": null,
   "id": "9a8c2509",
   "metadata": {},
   "outputs": [],
   "source": [
    "# Polimorfismos\n",
    "\n",
    "#Tenemos una nueva clase marsupial, que igual crece y cambia su peso de manera distinta. Podemos \n",
    "# usar ambos métodos sin problema\n",
    "\n",
    "\n",
    "from random import choice, seed\n",
    "class marsupial(mamifero):\n",
    "                         \n",
    "    def crecer(self, crecimiento):\n",
    "        self.altura += crecimiento\n",
    "        self.peso += crecimiento * 0.7\n",
    "\n",
    "cachalote = placentario('carnívoro', 200, 41*10**3, True )\n",
    "tlacuache = marsupial('omnívoro', 30, 1.2)\n",
    "\n",
    "for mamiferito in [cachalote, tlacuache]:\n",
    "  mamiferito.crecer(10)\n",
    "\n",
    "cachalote.peso, tlacuache.peso"
   ]
  }
 ],
 "metadata": {
  "kernelspec": {
   "display_name": "Python 3",
   "language": "python",
   "name": "python3"
  },
  "language_info": {
   "codemirror_mode": {
    "name": "ipython",
    "version": 3
   },
   "file_extension": ".py",
   "mimetype": "text/x-python",
   "name": "python",
   "nbconvert_exporter": "python",
   "pygments_lexer": "ipython3",
   "version": "3.12.3"
  }
 },
 "nbformat": 4,
 "nbformat_minor": 5
}
